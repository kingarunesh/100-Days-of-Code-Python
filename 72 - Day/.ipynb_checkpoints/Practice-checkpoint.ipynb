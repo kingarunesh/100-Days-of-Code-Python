{
 "cells": [
  {
   "cell_type": "code",
   "execution_count": 1,
   "id": "74fa85a0-82d4-4efa-98cf-64f026398a5f",
   "metadata": {},
   "outputs": [],
   "source": [
    "import pandas as pd"
   ]
  },
  {
   "cell_type": "code",
   "execution_count": 2,
   "id": "d90bff7d-b119-43b6-bd0e-2b3e655d741c",
   "metadata": {},
   "outputs": [],
   "source": [
    "df = pd.read_csv(\"QueryResults.csv\")"
   ]
  },
  {
   "cell_type": "code",
   "execution_count": 3,
   "id": "cbd0535d-29cc-472b-a0f3-20769e5276c5",
   "metadata": {},
   "outputs": [
    {
     "data": {
      "text/html": [
       "<div>\n",
       "<style scoped>\n",
       "    .dataframe tbody tr th:only-of-type {\n",
       "        vertical-align: middle;\n",
       "    }\n",
       "\n",
       "    .dataframe tbody tr th {\n",
       "        vertical-align: top;\n",
       "    }\n",
       "\n",
       "    .dataframe thead th {\n",
       "        text-align: right;\n",
       "    }\n",
       "</style>\n",
       "<table border=\"1\" class=\"dataframe\">\n",
       "  <thead>\n",
       "    <tr style=\"text-align: right;\">\n",
       "      <th></th>\n",
       "      <th>m</th>\n",
       "      <th>TagName</th>\n",
       "      <th>Unnamed: 2</th>\n",
       "    </tr>\n",
       "  </thead>\n",
       "  <tbody>\n",
       "    <tr>\n",
       "      <th>0</th>\n",
       "      <td>2008-07-01 00:00:00</td>\n",
       "      <td>c#</td>\n",
       "      <td>3</td>\n",
       "    </tr>\n",
       "    <tr>\n",
       "      <th>1</th>\n",
       "      <td>2008-08-01 00:00:00</td>\n",
       "      <td>assembly</td>\n",
       "      <td>8</td>\n",
       "    </tr>\n",
       "    <tr>\n",
       "      <th>2</th>\n",
       "      <td>2008-08-01 00:00:00</td>\n",
       "      <td>javascript</td>\n",
       "      <td>162</td>\n",
       "    </tr>\n",
       "    <tr>\n",
       "      <th>3</th>\n",
       "      <td>2008-08-01 00:00:00</td>\n",
       "      <td>c</td>\n",
       "      <td>85</td>\n",
       "    </tr>\n",
       "    <tr>\n",
       "      <th>4</th>\n",
       "      <td>2008-08-01 00:00:00</td>\n",
       "      <td>python</td>\n",
       "      <td>124</td>\n",
       "    </tr>\n",
       "  </tbody>\n",
       "</table>\n",
       "</div>"
      ],
      "text/plain": [
       "                     m     TagName  Unnamed: 2\n",
       "0  2008-07-01 00:00:00          c#           3\n",
       "1  2008-08-01 00:00:00    assembly           8\n",
       "2  2008-08-01 00:00:00  javascript         162\n",
       "3  2008-08-01 00:00:00           c          85\n",
       "4  2008-08-01 00:00:00      python         124"
      ]
     },
     "execution_count": 3,
     "metadata": {},
     "output_type": "execute_result"
    }
   ],
   "source": [
    "df.head(5)"
   ]
  },
  {
   "cell_type": "code",
   "execution_count": 4,
   "id": "e852fa8b-c511-4a9a-bf2b-73e94daf8e1f",
   "metadata": {},
   "outputs": [],
   "source": [
    "df = df.rename(columns={\"m\": \"DATE\", \"TagName\": \"TAG\", \"Unnamed: 2\": \"POSTS\"})"
   ]
  },
  {
   "cell_type": "code",
   "execution_count": 5,
   "id": "79368f66-e772-43be-8fc0-627c9b7c93e0",
   "metadata": {},
   "outputs": [
    {
     "data": {
      "text/html": [
       "<div>\n",
       "<style scoped>\n",
       "    .dataframe tbody tr th:only-of-type {\n",
       "        vertical-align: middle;\n",
       "    }\n",
       "\n",
       "    .dataframe tbody tr th {\n",
       "        vertical-align: top;\n",
       "    }\n",
       "\n",
       "    .dataframe thead th {\n",
       "        text-align: right;\n",
       "    }\n",
       "</style>\n",
       "<table border=\"1\" class=\"dataframe\">\n",
       "  <thead>\n",
       "    <tr style=\"text-align: right;\">\n",
       "      <th></th>\n",
       "      <th>DATE</th>\n",
       "      <th>TAG</th>\n",
       "      <th>POSTS</th>\n",
       "    </tr>\n",
       "  </thead>\n",
       "  <tbody>\n",
       "    <tr>\n",
       "      <th>0</th>\n",
       "      <td>2008-07-01 00:00:00</td>\n",
       "      <td>c#</td>\n",
       "      <td>3</td>\n",
       "    </tr>\n",
       "    <tr>\n",
       "      <th>1</th>\n",
       "      <td>2008-08-01 00:00:00</td>\n",
       "      <td>assembly</td>\n",
       "      <td>8</td>\n",
       "    </tr>\n",
       "    <tr>\n",
       "      <th>2</th>\n",
       "      <td>2008-08-01 00:00:00</td>\n",
       "      <td>javascript</td>\n",
       "      <td>162</td>\n",
       "    </tr>\n",
       "    <tr>\n",
       "      <th>3</th>\n",
       "      <td>2008-08-01 00:00:00</td>\n",
       "      <td>c</td>\n",
       "      <td>85</td>\n",
       "    </tr>\n",
       "    <tr>\n",
       "      <th>4</th>\n",
       "      <td>2008-08-01 00:00:00</td>\n",
       "      <td>python</td>\n",
       "      <td>124</td>\n",
       "    </tr>\n",
       "  </tbody>\n",
       "</table>\n",
       "</div>"
      ],
      "text/plain": [
       "                  DATE         TAG  POSTS\n",
       "0  2008-07-01 00:00:00          c#      3\n",
       "1  2008-08-01 00:00:00    assembly      8\n",
       "2  2008-08-01 00:00:00  javascript    162\n",
       "3  2008-08-01 00:00:00           c     85\n",
       "4  2008-08-01 00:00:00      python    124"
      ]
     },
     "execution_count": 5,
     "metadata": {},
     "output_type": "execute_result"
    }
   ],
   "source": [
    "df.head(5)"
   ]
  },
  {
   "cell_type": "code",
   "execution_count": 6,
   "id": "fa35e0c1-da2e-49d5-8ab1-4098ad9706a1",
   "metadata": {},
   "outputs": [
    {
     "data": {
      "text/html": [
       "<div>\n",
       "<style scoped>\n",
       "    .dataframe tbody tr th:only-of-type {\n",
       "        vertical-align: middle;\n",
       "    }\n",
       "\n",
       "    .dataframe tbody tr th {\n",
       "        vertical-align: top;\n",
       "    }\n",
       "\n",
       "    .dataframe thead th {\n",
       "        text-align: right;\n",
       "    }\n",
       "</style>\n",
       "<table border=\"1\" class=\"dataframe\">\n",
       "  <thead>\n",
       "    <tr style=\"text-align: right;\">\n",
       "      <th></th>\n",
       "      <th>DATE</th>\n",
       "      <th>POSTS</th>\n",
       "    </tr>\n",
       "    <tr>\n",
       "      <th>TAG</th>\n",
       "      <th></th>\n",
       "      <th></th>\n",
       "    </tr>\n",
       "  </thead>\n",
       "  <tbody>\n",
       "    <tr>\n",
       "      <th>assembly</th>\n",
       "      <td>144</td>\n",
       "      <td>144</td>\n",
       "    </tr>\n",
       "    <tr>\n",
       "      <th>c</th>\n",
       "      <td>144</td>\n",
       "      <td>144</td>\n",
       "    </tr>\n",
       "    <tr>\n",
       "      <th>c#</th>\n",
       "      <td>145</td>\n",
       "      <td>145</td>\n",
       "    </tr>\n",
       "    <tr>\n",
       "      <th>c++</th>\n",
       "      <td>144</td>\n",
       "      <td>144</td>\n",
       "    </tr>\n",
       "    <tr>\n",
       "      <th>delphi</th>\n",
       "      <td>144</td>\n",
       "      <td>144</td>\n",
       "    </tr>\n",
       "    <tr>\n",
       "      <th>go</th>\n",
       "      <td>129</td>\n",
       "      <td>129</td>\n",
       "    </tr>\n",
       "    <tr>\n",
       "      <th>java</th>\n",
       "      <td>144</td>\n",
       "      <td>144</td>\n",
       "    </tr>\n",
       "    <tr>\n",
       "      <th>javascript</th>\n",
       "      <td>144</td>\n",
       "      <td>144</td>\n",
       "    </tr>\n",
       "    <tr>\n",
       "      <th>perl</th>\n",
       "      <td>144</td>\n",
       "      <td>144</td>\n",
       "    </tr>\n",
       "    <tr>\n",
       "      <th>php</th>\n",
       "      <td>144</td>\n",
       "      <td>144</td>\n",
       "    </tr>\n",
       "    <tr>\n",
       "      <th>python</th>\n",
       "      <td>144</td>\n",
       "      <td>144</td>\n",
       "    </tr>\n",
       "    <tr>\n",
       "      <th>r</th>\n",
       "      <td>142</td>\n",
       "      <td>142</td>\n",
       "    </tr>\n",
       "    <tr>\n",
       "      <th>ruby</th>\n",
       "      <td>144</td>\n",
       "      <td>144</td>\n",
       "    </tr>\n",
       "    <tr>\n",
       "      <th>swift</th>\n",
       "      <td>135</td>\n",
       "      <td>135</td>\n",
       "    </tr>\n",
       "  </tbody>\n",
       "</table>\n",
       "</div>"
      ],
      "text/plain": [
       "            DATE  POSTS\n",
       "TAG                    \n",
       "assembly     144    144\n",
       "c            144    144\n",
       "c#           145    145\n",
       "c++          144    144\n",
       "delphi       144    144\n",
       "go           129    129\n",
       "java         144    144\n",
       "javascript   144    144\n",
       "perl         144    144\n",
       "php          144    144\n",
       "python       144    144\n",
       "r            142    142\n",
       "ruby         144    144\n",
       "swift        135    135"
      ]
     },
     "execution_count": 6,
     "metadata": {},
     "output_type": "execute_result"
    }
   ],
   "source": [
    "df.groupby(\"TAG\").count()"
   ]
  },
  {
   "cell_type": "code",
   "execution_count": 7,
   "id": "e3319103-35ea-4729-af42-ae64327cc626",
   "metadata": {},
   "outputs": [
    {
     "data": {
      "text/plain": [
       "DATE     1991\n",
       "TAG      1991\n",
       "POSTS    1991\n",
       "dtype: int64"
      ]
     },
     "execution_count": 7,
     "metadata": {},
     "output_type": "execute_result"
    }
   ],
   "source": [
    "df.count()"
   ]
  },
  {
   "cell_type": "code",
   "execution_count": 8,
   "id": "f8f81b02-7ca5-47e0-b529-8570a9765680",
   "metadata": {},
   "outputs": [],
   "source": [
    "index = df[\"POSTS\"].max()"
   ]
  },
  {
   "cell_type": "code",
   "execution_count": 9,
   "id": "f5039d1a-3e44-491c-adec-8e1abde262e5",
   "metadata": {},
   "outputs": [
    {
     "data": {
      "text/plain": [
       "34478"
      ]
     },
     "execution_count": 9,
     "metadata": {},
     "output_type": "execute_result"
    }
   ],
   "source": [
    "index"
   ]
  },
  {
   "cell_type": "code",
   "execution_count": 10,
   "id": "92d34098-f9b3-4491-80e3-780a8d268606",
   "metadata": {},
   "outputs": [
    {
     "data": {
      "text/html": [
       "<div>\n",
       "<style scoped>\n",
       "    .dataframe tbody tr th:only-of-type {\n",
       "        vertical-align: middle;\n",
       "    }\n",
       "\n",
       "    .dataframe tbody tr th {\n",
       "        vertical-align: top;\n",
       "    }\n",
       "\n",
       "    .dataframe thead th {\n",
       "        text-align: right;\n",
       "    }\n",
       "</style>\n",
       "<table border=\"1\" class=\"dataframe\">\n",
       "  <thead>\n",
       "    <tr style=\"text-align: right;\">\n",
       "      <th></th>\n",
       "      <th>POSTS</th>\n",
       "    </tr>\n",
       "    <tr>\n",
       "      <th>TAG</th>\n",
       "      <th></th>\n",
       "    </tr>\n",
       "  </thead>\n",
       "  <tbody>\n",
       "    <tr>\n",
       "      <th>assembly</th>\n",
       "      <td>34852</td>\n",
       "    </tr>\n",
       "    <tr>\n",
       "      <th>c</th>\n",
       "      <td>336042</td>\n",
       "    </tr>\n",
       "    <tr>\n",
       "      <th>c#</th>\n",
       "      <td>1423530</td>\n",
       "    </tr>\n",
       "    <tr>\n",
       "      <th>c++</th>\n",
       "      <td>684210</td>\n",
       "    </tr>\n",
       "    <tr>\n",
       "      <th>delphi</th>\n",
       "      <td>46212</td>\n",
       "    </tr>\n",
       "    <tr>\n",
       "      <th>go</th>\n",
       "      <td>47499</td>\n",
       "    </tr>\n",
       "    <tr>\n",
       "      <th>java</th>\n",
       "      <td>1696403</td>\n",
       "    </tr>\n",
       "    <tr>\n",
       "      <th>javascript</th>\n",
       "      <td>2056510</td>\n",
       "    </tr>\n",
       "    <tr>\n",
       "      <th>perl</th>\n",
       "      <td>65286</td>\n",
       "    </tr>\n",
       "    <tr>\n",
       "      <th>php</th>\n",
       "      <td>1361988</td>\n",
       "    </tr>\n",
       "    <tr>\n",
       "      <th>python</th>\n",
       "      <td>1496210</td>\n",
       "    </tr>\n",
       "    <tr>\n",
       "      <th>r</th>\n",
       "      <td>356799</td>\n",
       "    </tr>\n",
       "    <tr>\n",
       "      <th>ruby</th>\n",
       "      <td>214582</td>\n",
       "    </tr>\n",
       "    <tr>\n",
       "      <th>swift</th>\n",
       "      <td>273055</td>\n",
       "    </tr>\n",
       "  </tbody>\n",
       "</table>\n",
       "</div>"
      ],
      "text/plain": [
       "              POSTS\n",
       "TAG                \n",
       "assembly      34852\n",
       "c            336042\n",
       "c#          1423530\n",
       "c++          684210\n",
       "delphi        46212\n",
       "go            47499\n",
       "java        1696403\n",
       "javascript  2056510\n",
       "perl          65286\n",
       "php         1361988\n",
       "python      1496210\n",
       "r            356799\n",
       "ruby         214582\n",
       "swift        273055"
      ]
     },
     "execution_count": 10,
     "metadata": {},
     "output_type": "execute_result"
    }
   ],
   "source": [
    "df.groupby(\"TAG\").sum()"
   ]
  },
  {
   "cell_type": "code",
   "execution_count": 11,
   "id": "c4603ffe-1a84-47be-bfd5-6d5d7d6a0b16",
   "metadata": {},
   "outputs": [],
   "source": [
    "x = df.groupby(\"TAG\").sum()"
   ]
  },
  {
   "cell_type": "code",
   "execution_count": 12,
   "id": "d4440b67-1a4f-4817-8c7a-7650052bfb09",
   "metadata": {},
   "outputs": [
    {
     "data": {
      "text/plain": [
       "'javascript'"
      ]
     },
     "execution_count": 12,
     "metadata": {},
     "output_type": "execute_result"
    }
   ],
   "source": [
    "x[\"POSTS\"].idxmax()"
   ]
  },
  {
   "cell_type": "code",
   "execution_count": 13,
   "id": "2d18604b-6333-4e0f-a656-35344be7cee9",
   "metadata": {},
   "outputs": [
    {
     "data": {
      "text/html": [
       "<div>\n",
       "<style scoped>\n",
       "    .dataframe tbody tr th:only-of-type {\n",
       "        vertical-align: middle;\n",
       "    }\n",
       "\n",
       "    .dataframe tbody tr th {\n",
       "        vertical-align: top;\n",
       "    }\n",
       "\n",
       "    .dataframe thead th {\n",
       "        text-align: right;\n",
       "    }\n",
       "</style>\n",
       "<table border=\"1\" class=\"dataframe\">\n",
       "  <thead>\n",
       "    <tr style=\"text-align: right;\">\n",
       "      <th></th>\n",
       "      <th>DATE</th>\n",
       "      <th>TAG</th>\n",
       "      <th>POSTS</th>\n",
       "    </tr>\n",
       "  </thead>\n",
       "  <tbody>\n",
       "    <tr>\n",
       "      <th>0</th>\n",
       "      <td>2008-07-01 00:00:00</td>\n",
       "      <td>c#</td>\n",
       "      <td>3</td>\n",
       "    </tr>\n",
       "    <tr>\n",
       "      <th>1</th>\n",
       "      <td>2008-08-01 00:00:00</td>\n",
       "      <td>assembly</td>\n",
       "      <td>8</td>\n",
       "    </tr>\n",
       "    <tr>\n",
       "      <th>2</th>\n",
       "      <td>2008-08-01 00:00:00</td>\n",
       "      <td>javascript</td>\n",
       "      <td>162</td>\n",
       "    </tr>\n",
       "    <tr>\n",
       "      <th>3</th>\n",
       "      <td>2008-08-01 00:00:00</td>\n",
       "      <td>c</td>\n",
       "      <td>85</td>\n",
       "    </tr>\n",
       "    <tr>\n",
       "      <th>4</th>\n",
       "      <td>2008-08-01 00:00:00</td>\n",
       "      <td>python</td>\n",
       "      <td>124</td>\n",
       "    </tr>\n",
       "  </tbody>\n",
       "</table>\n",
       "</div>"
      ],
      "text/plain": [
       "                  DATE         TAG  POSTS\n",
       "0  2008-07-01 00:00:00          c#      3\n",
       "1  2008-08-01 00:00:00    assembly      8\n",
       "2  2008-08-01 00:00:00  javascript    162\n",
       "3  2008-08-01 00:00:00           c     85\n",
       "4  2008-08-01 00:00:00      python    124"
      ]
     },
     "execution_count": 13,
     "metadata": {},
     "output_type": "execute_result"
    }
   ],
   "source": [
    "df.head()"
   ]
  },
  {
   "cell_type": "code",
   "execution_count": 14,
   "id": "cb2d3fc8-7fa3-4116-b228-0cbbcfcf6460",
   "metadata": {},
   "outputs": [
    {
     "data": {
      "text/plain": [
       "0       2008-07-01 00:00:00\n",
       "1       2008-08-01 00:00:00\n",
       "2       2008-08-01 00:00:00\n",
       "3       2008-08-01 00:00:00\n",
       "4       2008-08-01 00:00:00\n",
       "               ...         \n",
       "1986    2020-07-01 00:00:00\n",
       "1987    2020-07-01 00:00:00\n",
       "1988    2020-07-01 00:00:00\n",
       "1989    2020-07-01 00:00:00\n",
       "1990    2020-07-01 00:00:00\n",
       "Name: DATE, Length: 1991, dtype: object"
      ]
     },
     "execution_count": 14,
     "metadata": {},
     "output_type": "execute_result"
    }
   ],
   "source": [
    "df[\"DATE\"]"
   ]
  },
  {
   "cell_type": "code",
   "execution_count": 15,
   "id": "4d5ce1c8-3fe7-4a03-a7b9-e574264f2a03",
   "metadata": {},
   "outputs": [
    {
     "data": {
      "text/html": [
       "<div>\n",
       "<style scoped>\n",
       "    .dataframe tbody tr th:only-of-type {\n",
       "        vertical-align: middle;\n",
       "    }\n",
       "\n",
       "    .dataframe tbody tr th {\n",
       "        vertical-align: top;\n",
       "    }\n",
       "\n",
       "    .dataframe thead th {\n",
       "        text-align: right;\n",
       "    }\n",
       "</style>\n",
       "<table border=\"1\" class=\"dataframe\">\n",
       "  <thead>\n",
       "    <tr style=\"text-align: right;\">\n",
       "      <th></th>\n",
       "      <th>DATE</th>\n",
       "      <th>TAG</th>\n",
       "      <th>POSTS</th>\n",
       "    </tr>\n",
       "  </thead>\n",
       "  <tbody>\n",
       "    <tr>\n",
       "      <th>0</th>\n",
       "      <td>2008-07-01 00:00:00</td>\n",
       "      <td>c#</td>\n",
       "      <td>3</td>\n",
       "    </tr>\n",
       "    <tr>\n",
       "      <th>1</th>\n",
       "      <td>2008-08-01 00:00:00</td>\n",
       "      <td>assembly</td>\n",
       "      <td>8</td>\n",
       "    </tr>\n",
       "    <tr>\n",
       "      <th>2</th>\n",
       "      <td>2008-08-01 00:00:00</td>\n",
       "      <td>javascript</td>\n",
       "      <td>162</td>\n",
       "    </tr>\n",
       "    <tr>\n",
       "      <th>3</th>\n",
       "      <td>2008-08-01 00:00:00</td>\n",
       "      <td>c</td>\n",
       "      <td>85</td>\n",
       "    </tr>\n",
       "    <tr>\n",
       "      <th>4</th>\n",
       "      <td>2008-08-01 00:00:00</td>\n",
       "      <td>python</td>\n",
       "      <td>124</td>\n",
       "    </tr>\n",
       "  </tbody>\n",
       "</table>\n",
       "</div>"
      ],
      "text/plain": [
       "                  DATE         TAG  POSTS\n",
       "0  2008-07-01 00:00:00          c#      3\n",
       "1  2008-08-01 00:00:00    assembly      8\n",
       "2  2008-08-01 00:00:00  javascript    162\n",
       "3  2008-08-01 00:00:00           c     85\n",
       "4  2008-08-01 00:00:00      python    124"
      ]
     },
     "execution_count": 15,
     "metadata": {},
     "output_type": "execute_result"
    }
   ],
   "source": [
    "df.head()"
   ]
  },
  {
   "cell_type": "code",
   "execution_count": 16,
   "id": "b0855c80-7e71-4a7a-8bb5-a87ed04b4fb4",
   "metadata": {},
   "outputs": [
    {
     "data": {
      "text/plain": [
       "0       2008-07-01 00:00:00\n",
       "1       2008-08-01 00:00:00\n",
       "2       2008-08-01 00:00:00\n",
       "3       2008-08-01 00:00:00\n",
       "4       2008-08-01 00:00:00\n",
       "               ...         \n",
       "1986    2020-07-01 00:00:00\n",
       "1987    2020-07-01 00:00:00\n",
       "1988    2020-07-01 00:00:00\n",
       "1989    2020-07-01 00:00:00\n",
       "1990    2020-07-01 00:00:00\n",
       "Name: DATE, Length: 1991, dtype: object"
      ]
     },
     "execution_count": 16,
     "metadata": {},
     "output_type": "execute_result"
    }
   ],
   "source": [
    "df[\"DATE\"]"
   ]
  },
  {
   "cell_type": "code",
   "execution_count": 17,
   "id": "15d2369c-9d6e-46a8-9062-19a0e8f907f5",
   "metadata": {},
   "outputs": [
    {
     "data": {
      "text/plain": [
       "'2008-07-01 00:00:00'"
      ]
     },
     "execution_count": 17,
     "metadata": {},
     "output_type": "execute_result"
    }
   ],
   "source": [
    "df[\"DATE\"][0]"
   ]
  },
  {
   "cell_type": "code",
   "execution_count": 18,
   "id": "cbec7e33-9ef1-4bbd-bddf-ef3a9576200f",
   "metadata": {},
   "outputs": [
    {
     "data": {
      "text/plain": [
       "'2008-07-01 00:00:00'"
      ]
     },
     "execution_count": 18,
     "metadata": {},
     "output_type": "execute_result"
    }
   ],
   "source": [
    "df.DATE[0]"
   ]
  },
  {
   "cell_type": "code",
   "execution_count": 19,
   "id": "1defae49-3ad8-46a9-a3cb-8f70cd9bebd5",
   "metadata": {},
   "outputs": [
    {
     "data": {
      "text/plain": [
       "str"
      ]
     },
     "execution_count": 19,
     "metadata": {},
     "output_type": "execute_result"
    }
   ],
   "source": [
    "type(df[\"DATE\"][1])"
   ]
  },
  {
   "cell_type": "code",
   "execution_count": 20,
   "id": "e067c5a4-3431-415f-93dd-4746c06512e0",
   "metadata": {},
   "outputs": [
    {
     "data": {
      "text/plain": [
       "Timestamp('2008-08-01 00:00:00')"
      ]
     },
     "execution_count": 20,
     "metadata": {},
     "output_type": "execute_result"
    }
   ],
   "source": [
    "pd.to_datetime(df[\"DATE\"][1])"
   ]
  },
  {
   "cell_type": "code",
   "execution_count": 21,
   "id": "421054bf-c4d2-4f41-a286-da0932b98285",
   "metadata": {},
   "outputs": [
    {
     "data": {
      "text/plain": [
       "pandas._libs.tslibs.timestamps.Timestamp"
      ]
     },
     "execution_count": 21,
     "metadata": {},
     "output_type": "execute_result"
    }
   ],
   "source": [
    "type(pd.to_datetime(df[\"DATE\"][1]))"
   ]
  },
  {
   "cell_type": "code",
   "execution_count": 22,
   "id": "17240901-72ac-4206-a04c-fe0957fb27c8",
   "metadata": {},
   "outputs": [],
   "source": [
    "df[\"DATE\"] = pd.to_datetime(df[\"DATE\"])"
   ]
  },
  {
   "cell_type": "code",
   "execution_count": 23,
   "id": "7464a179-ed63-4ee6-a713-c6eb59c94e46",
   "metadata": {},
   "outputs": [
    {
     "data": {
      "text/html": [
       "<div>\n",
       "<style scoped>\n",
       "    .dataframe tbody tr th:only-of-type {\n",
       "        vertical-align: middle;\n",
       "    }\n",
       "\n",
       "    .dataframe tbody tr th {\n",
       "        vertical-align: top;\n",
       "    }\n",
       "\n",
       "    .dataframe thead th {\n",
       "        text-align: right;\n",
       "    }\n",
       "</style>\n",
       "<table border=\"1\" class=\"dataframe\">\n",
       "  <thead>\n",
       "    <tr style=\"text-align: right;\">\n",
       "      <th></th>\n",
       "      <th>DATE</th>\n",
       "      <th>TAG</th>\n",
       "      <th>POSTS</th>\n",
       "    </tr>\n",
       "  </thead>\n",
       "  <tbody>\n",
       "    <tr>\n",
       "      <th>0</th>\n",
       "      <td>2008-07-01</td>\n",
       "      <td>c#</td>\n",
       "      <td>3</td>\n",
       "    </tr>\n",
       "    <tr>\n",
       "      <th>1</th>\n",
       "      <td>2008-08-01</td>\n",
       "      <td>assembly</td>\n",
       "      <td>8</td>\n",
       "    </tr>\n",
       "    <tr>\n",
       "      <th>2</th>\n",
       "      <td>2008-08-01</td>\n",
       "      <td>javascript</td>\n",
       "      <td>162</td>\n",
       "    </tr>\n",
       "    <tr>\n",
       "      <th>3</th>\n",
       "      <td>2008-08-01</td>\n",
       "      <td>c</td>\n",
       "      <td>85</td>\n",
       "    </tr>\n",
       "    <tr>\n",
       "      <th>4</th>\n",
       "      <td>2008-08-01</td>\n",
       "      <td>python</td>\n",
       "      <td>124</td>\n",
       "    </tr>\n",
       "  </tbody>\n",
       "</table>\n",
       "</div>"
      ],
      "text/plain": [
       "        DATE         TAG  POSTS\n",
       "0 2008-07-01          c#      3\n",
       "1 2008-08-01    assembly      8\n",
       "2 2008-08-01  javascript    162\n",
       "3 2008-08-01           c     85\n",
       "4 2008-08-01      python    124"
      ]
     },
     "execution_count": 23,
     "metadata": {},
     "output_type": "execute_result"
    }
   ],
   "source": [
    "df.head()"
   ]
  },
  {
   "cell_type": "code",
   "execution_count": null,
   "id": "9e502ff2-5c2e-4ad3-b979-861a5c351b59",
   "metadata": {},
   "outputs": [],
   "source": []
  }
 ],
 "metadata": {
  "kernelspec": {
   "display_name": "Python 3 (ipykernel)",
   "language": "python",
   "name": "python3"
  },
  "language_info": {
   "codemirror_mode": {
    "name": "ipython",
    "version": 3
   },
   "file_extension": ".py",
   "mimetype": "text/x-python",
   "name": "python",
   "nbconvert_exporter": "python",
   "pygments_lexer": "ipython3",
   "version": "3.9.12"
  }
 },
 "nbformat": 4,
 "nbformat_minor": 5
}
